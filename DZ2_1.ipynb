{
 "cells": [
  {
   "cell_type": "code",
   "execution_count": 1,
   "metadata": {},
   "outputs": [],
   "source": [
    "#Задание 1\n",
    "#Даны 2 переменных, в которых хранятся строки произвольной длины: phrase_1 и phrase_2.\n",
    "#Напишите код, который проверяет какая из этих строк длиннее."
   ]
  },
  {
   "cell_type": "code",
   "execution_count": 3,
   "metadata": {},
   "outputs": [
    {
     "name": "stdout",
     "output_type": "stream",
     "text": [
      "Введите первую фразу 345g\n",
      "Введите вторую фразу 4f\n",
      "Первая фраза длиннее\n"
     ]
    }
   ],
   "source": [
    "phrase_1 = input('Введите первую фразу ')\n",
    "phrase_2 = input('Введите вторую фразу ')\n",
    "if len(phrase_1) == len(phrase_2):\n",
    "    print('Фразы одинаковые по длине')\n",
    "elif len(phrase_1)>len(phrase_2):\n",
    "    print('Первая фраза длиннее')\n",
    "else:\n",
    "    print('Вторая фраза длиннее')"
   ]
  },
  {
   "cell_type": "code",
   "execution_count": 3,
   "metadata": {},
   "outputs": [],
   "source": [
    "#Задание 2\n",
    "#Дана переменная, в которой хранится четырехзначное число (год). \n",
    "#Необходимо написать программу, которая выведет, является ли данный год високосным или обычным."
   ]
  },
  {
   "cell_type": "code",
   "execution_count": 4,
   "metadata": {},
   "outputs": [
    {
     "name": "stdout",
     "output_type": "stream",
     "text": [
      "Введите год  2020\n",
      "Год високосный\n"
     ]
    }
   ],
   "source": [
    "year = int(input('Введите год  '))\n",
    "if year%4 == 0:\n",
    "    print('Год високосный')    \n",
    "else:\n",
    "    print('Год не високосный')"
   ]
  },
  {
   "cell_type": "code",
   "execution_count": 5,
   "metadata": {},
   "outputs": [],
   "source": [
    "#Задание 3\n",
    "#Необходимо написать программу, \n",
    "#которая будет запрашивать у пользователя месяц и дату рождения и выводить соответствующий знак зодиака."
   ]
  },
  {
   "cell_type": "markdown",
   "metadata": {},
   "source": [
    "month = int(input('Введите номер месяца рождения '))\n",
    "date = int(input('Введите дату рождения '))\n",
    "if month == 3 and 21 <= date <= 31 or month == 4 and 1 <= date <= 20:\n",
    "    print('Овен') \n",
    "elif month == 4 and 21 <= date <= 30 or month == 5 and 1 <= date <= 20:\n",
    "    print('Телец')\n",
    "elif month == 5 and 21 <= date <= 31 or month == 6 and 1 <= date <= 20:\n",
    "    print('Близнецы')\n",
    "elif month == 6 and 21 <= date <= 30 or month == 7 and 1 <= date <= 22:\n",
    "    print('Рак')  \n",
    "elif month == 7 and 23 <= date <= 31 or month == 8 and 1 <= date <= 22:\n",
    "    print('Лев')  \n",
    "elif month == 8 and 23 <= date <= 31 or month == 9 and 1 <= date <= 22:\n",
    "    print('Дева')\n",
    "elif month == 9 and 23 <= date <= 30 or month == 10 and 1 <= date <= 22:\n",
    "    print('Весы')\n",
    "elif month == 10 and 23 <= date <= 31 or month == 11 and 1 <= date <= 22:\n",
    "    print('Скорпион')\n",
    "elif month == 11 and 23 <= date <= 30 or month == 12 and 1 <= date <= 21:\n",
    "    print('Стрелец')\n",
    "elif month == 12 and 22 <= date <= 31 or month == 1 and 1 <= date <= 19:\n",
    "    print('Козерог')\n",
    "elif month == 1 and 20 <= date <= 31 or month == 2 and 1 <= date <= 19:\n",
    "    print('Водолей')\n",
    "elif month == 2 and 20 <= date <= 29 or month == 3 and 1 <= date <= 20:\n",
    "    print('Рыбы') \n",
    "else:\n",
    "    print('некорректный месяц или дата')"
   ]
  },
  {
   "cell_type": "code",
   "execution_count": null,
   "metadata": {},
   "outputs": [],
   "source": [
    "#Задание 4\n",
    "#Вам нужно написать программу для подбора упаковок по размерам товара. Размеры хранятся в переменных (в сантиметрах):\n",
    "\n",
    "width = 10\n",
    "length = 205\n",
    "height = 5\n",
    "Используйте следующие правила:\n",
    "\n",
    "если каждое из трех измерений менее 15 сантиметров, то выведите на экран “Коробка №1”;\n",
    "если хотя бы одно из измерений больше 15 сантиметров, но менее 50 сантиметров, то выводите “Коробка №2”;\n",
    "если длина товара больше 2 метров, то выводите “Упаковка для лыж”;\n",
    "во всех остальных случаях выводите “Стандартная коробка №3”."
   ]
  },
  {
   "cell_type": "code",
   "execution_count": null,
   "metadata": {},
   "outputs": [],
   "source": [
    "width = int(input('Введите ширину  '))\n",
    "lenght = int(input('Введите длину  '))\n",
    "width = int(input('Введите высоту  '))\n",
    "if lenght > 200:\n",
    "    print('Упаковка для лыж')\n",
    "elif width < 15 and lenght <15 and width <15:\n",
    "    print('Коробка №1')\n",
    "elif 15 < width < 50 or 15 < lenght < 50 or 15 < width < 50:\n",
    "    print('Коробка №2')\n",
    "else:\n",
    "    print('Стандартная коробка №3')"
   ]
  },
  {
   "cell_type": "code",
   "execution_count": null,
   "metadata": {},
   "outputs": [],
   "source": [
    "#Задание 5 (необязательное)\n",
    "#Дана переменная, в которой хранится шестизначное число (номер проездного билета). Напишите программу, \n",
    "#которая будет определять, является ли данный билет “счастливым”. Билет считается счастливым, \n",
    "#если сумма первых трех цифр совпадает с суммой последних трех цифр номера.\n",
    "\n",
    "Примеры работы программы:\n",
    "\n",
    "number = 123456\n",
    "Результат:\n",
    "Неасчастливый билет\n",
    "\n",
    "number = 123321\n",
    "Результат:\n",
    "Счастливый билет"
   ]
  },
  {
   "cell_type": "code",
   "execution_count": 30,
   "metadata": {},
   "outputs": [
    {
     "name": "stdout",
     "output_type": "stream",
     "text": [
      "Введите 6-ти значный номер билета  111222\n",
      "Билет несчастливый\n"
     ]
    }
   ],
   "source": [
    "number = int(input('Введите 6-ти значный номер билета  '))\n",
    "num_1 = number // 100000\n",
    "num_2 = number % 100000 // 10000\n",
    "num_3 = number % 10000 // 1000\n",
    "num_4 = number % 1000 // 100\n",
    "num_5 = number % 100 // 10\n",
    "num_6 = number % 10 // 1\n",
    "if num_1 + num_2 + num_3 == num_4 + num_5 + num_6:\n",
    "    print('Билет счастливый')\n",
    "else:\n",
    "    print('Билет несчастливый')"
   ]
  },
  {
   "cell_type": "code",
   "execution_count": null,
   "metadata": {},
   "outputs": [],
   "source": [
    "#Задание 6 (необязательное)\n",
    "#Напишите программу, которая сможет вычислять площади трех фигур (круг, треугольник и прямоугольник). Тип фигуры \n",
    "#запрашиваем через пользовательский ввод, после чего делаем запрос характеристик фигуры:"
   ]
  },
  {
   "cell_type": "code",
   "execution_count": null,
   "metadata": {},
   "outputs": [],
   "source": [
    "import math\n",
    "type = input('Введите фигуру  ')\n",
    "if type == 'Круг':\n",
    "    r = int(input('Введите радиус круга '))\n",
    "    print('Прощадь круга ', 3.1415*r*r)\n",
    "elif type == 'Треугольник':\n",
    "    a = int(input('Введите сторону a '))\n",
    "    b = int(input('Введите сторону b '))\n",
    "    c = int(input('Введите сторону c '))\n",
    "    p = (a+b+c)/2\n",
    "    s = math.sqrt(p*(p-a)*(p-b)*(p-c))\n",
    "    print('Площадь треугольника ', s)\n",
    "elif type == 'Прямоугольник':\n",
    "    a = int(input('Введите одну сторону прямоугольника '))\n",
    "    b = int(input('Введите другую сторону прямоугольника '))\n",
    "    print('Площадь прямоугольника ', a*b)\n",
    "else:\n",
    "    print('Выберете фигуру из перечня: круг, треугольник или квадрат')"
   ]
  }
 ],
 "metadata": {
  "kernelspec": {
   "display_name": "Python 3",
   "language": "python",
   "name": "python3"
  },
  "language_info": {
   "codemirror_mode": {
    "name": "ipython",
    "version": 3
   },
   "file_extension": ".py",
   "mimetype": "text/x-python",
   "name": "python",
   "nbconvert_exporter": "python",
   "pygments_lexer": "ipython3",
   "version": "3.7.6"
  }
 },
 "nbformat": 4,
 "nbformat_minor": 4
}
