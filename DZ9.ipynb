{
 "cells": [
  {
   "cell_type": "code",
   "execution_count": null,
   "metadata": {},
   "outputs": [],
   "source": [
    "Задание 1\n",
    "Напишите функцию, которая принимает на вход строку и проверяет \n",
    "является ли она валидным транспортным номером (1 буква, 3 цифры, 2 буквы, 2-3 цифры). \n",
    "Обратите внимание, что не все буквы кириллического алфавита используются в транспортных номерах.\n",
    "\n",
    "Если номер валиден, то функция должна возвращать отдельно номер и регион."
   ]
  },
  {
   "cell_type": "code",
   "execution_count": 41,
   "metadata": {},
   "outputs": [],
   "source": [
    "import re"
   ]
  },
  {
   "cell_type": "code",
   "execution_count": 56,
   "metadata": {},
   "outputs": [
    {
     "name": "stdout",
     "output_type": "stream",
     "text": [
      "Введите номер транспортного средства A 321 AA 888\n",
      "Номер A 321 AA 888 валиден, регион 888\n"
     ]
    }
   ],
   "source": [
    "id_car = input('Введите номер транспортного средства ')\n",
    "def transport_number(id_car):\n",
    "    x = re.search(r'[ABEKMHOPCTYX]{1}\\s\\d{3}\\s[ABEKMHOPCTYX]{2}\\s\\d{2,3}', id_car)\n",
    "    if x:\n",
    "        print('Номер', id_car, 'валиден, регион', id_car[9:12])\n",
    "    else:\n",
    "        print('Номер не валиден')\n",
    "                           \n",
    "transport_number(id_car)\n",
    "                  \n",
    "                           "
   ]
  },
  {
   "cell_type": "code",
   "execution_count": 16,
   "metadata": {},
   "outputs": [],
   "source": [
    "import re"
   ]
  },
  {
   "cell_type": "code",
   "execution_count": null,
   "metadata": {},
   "outputs": [],
   "source": [
    "Задание 2\n",
    "Напишите функцию, которая будет удалять все последовательные повторы слов из заданной строки \n",
    "при помощи регулярных выражений.\n",
    "\n",
    "Пример работы программы:\n",
    "\n",
    "some_string = 'Напишите функцию функцию, которая будет будет будет будет удалять \n",
    "все все все все последовательные повторы слов из из из из заданной строки строки при помощи регулярных выражений'\n",
    "Результат: Напишите функцию, которая будет удалять все последовательные повторы \n",
    "    слов из заданной строки при помощи регулярных выражений."
   ]
  },
  {
   "cell_type": "code",
   "execution_count": 67,
   "metadata": {},
   "outputs": [
    {
     "data": {
      "text/plain": [
       "'Напишите функцию, которая будет да нет'"
      ]
     },
     "execution_count": 67,
     "metadata": {},
     "output_type": "execute_result"
    }
   ],
   "source": [
    "\n",
    "def rep(some_string):\n",
    "    some_string = 'Напишите функцию функцию, которая будет будет будет да да да да да нет нет нет'\n",
    "    x = re.sub(r'\\b([^\\W\\d_]+)(\\s+\\1)+\\b',r'\\1', some_string)\n",
    "    return x\n",
    "\n",
    "rep(some_string)\n"
   ]
  },
  {
   "cell_type": "code",
   "execution_count": null,
   "metadata": {},
   "outputs": [],
   "source": [
    "Задание 3\n",
    "Напишите функцию, которая будет возвращать акроним по переданной в нее строке со словами.\n",
    "\n",
    "Примеры работы программы:\n",
    "\n",
    "some_words = 'Информационные технологии'\n",
    "Результат: ИТ\n",
    "\n",
    "some_words = 'Near Field Communication'\n",
    "Результат: NFC"
   ]
  },
  {
   "cell_type": "code",
   "execution_count": 1,
   "metadata": {},
   "outputs": [],
   "source": [
    "import re"
   ]
  },
  {
   "cell_type": "code",
   "execution_count": 7,
   "metadata": {},
   "outputs": [
    {
     "name": "stdout",
     "output_type": "stream",
     "text": [
      "Введите слова DDD JJJ\n",
      "Результат DJ\n"
     ]
    }
   ],
   "source": [
    "string = input('Введите слова ')\n",
    "def acr(string):\n",
    "    x = re.findall(r'\\w+',string)\n",
    "    result = ''\n",
    "    for i in x:\n",
    "        m = re.match(r'\\w{1}', i)\n",
    "        result += m.group(0)\n",
    "    print('Результат', result)    \n",
    "                \n",
    "acr(string)"
   ]
  },
  {
   "cell_type": "code",
   "execution_count": null,
   "metadata": {},
   "outputs": [],
   "source": [
    "Задание 4\n",
    "Напишите функцию, которая будет принимать на вход список email-адресов и выводить их распределение по доменным зонам.\n",
    "\n",
    "Пример работы программы:\n",
    "\n",
    "emails = ['test@gmail.com', 'xyz@test.in', 'test@ya.ru', 'xyz@mail.ru', 'xyz@ya.ru', 'xyz@gmail.com']\n",
    "\n",
    "Результат:\n",
    "\n",
    "gmail.com: 2\n",
    "test.in: 1 \n",
    "ya.ru: 2 \n",
    "mail.ru: 1"
   ]
  },
  {
   "cell_type": "code",
   "execution_count": 10,
   "metadata": {},
   "outputs": [],
   "source": [
    "import re"
   ]
  },
  {
   "cell_type": "code",
   "execution_count": 42,
   "metadata": {},
   "outputs": [
    {
     "name": "stdout",
     "output_type": "stream",
     "text": [
      "{'@gmail.com': 2, '@test.in': 1, '@ya.ru': 2, '@mail.ru': 1}\n"
     ]
    }
   ],
   "source": [
    "def mail_cheak(emails):\n",
    "    emails = ['test@gmail.com', 'xyz@test.in', 'test@ya.ru', 'xyz@mail.ru', 'xyz@ya.ru', 'xyz@gmail.com']\n",
    "    mail = re.findall(r'[@][a-z]{2,6}\\.[a-z]{2,4}', str(emails))\n",
    "    array_d = {}\n",
    "    for a in mail:\n",
    "        try: array_d[a] += 1\n",
    "        except KeyError: array_d[a] = 1\n",
    "    print(array_d)\n",
    "    \n",
    "mail_cheak(emails) "
   ]
  }
 ],
 "metadata": {
  "kernelspec": {
   "display_name": "Python 3",
   "language": "python",
   "name": "python3"
  },
  "language_info": {
   "codemirror_mode": {
    "name": "ipython",
    "version": 3
   },
   "file_extension": ".py",
   "mimetype": "text/x-python",
   "name": "python",
   "nbconvert_exporter": "python",
   "pygments_lexer": "ipython3",
   "version": "3.7.6"
  }
 },
 "nbformat": 4,
 "nbformat_minor": 4
}
