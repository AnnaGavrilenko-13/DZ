{
 "cells": [
  {
   "cell_type": "code",
   "execution_count": 1,
   "metadata": {},
   "outputs": [],
   "source": [
    "#Задание 1\n",
    "#Дана переменная, в которой хранится слово из латинских букв. Напишите код, который выводит на экран:\n",
    "\n",
    "#среднюю букву, если число букв в слове четное;\n",
    "#две средних буквы, если число букв нечетное."
   ]
  },
  {
   "cell_type": "code",
   "execution_count": 2,
   "metadata": {},
   "outputs": [
    {
     "name": "stdout",
     "output_type": "stream",
     "text": [
      "Введите слово  ff\n",
      "ff\n"
     ]
    }
   ],
   "source": [
    "word = input('Введите слово  ')\n",
    "x = len(word)\n",
    "\n",
    "if len(word) % 2 == 0:\n",
    "    print(word[int(x/2)-1:int((x/2)+1)])\n",
    "else:\n",
    "    print(word[int(x/2)])\n"
   ]
  },
  {
   "cell_type": "code",
   "execution_count": 3,
   "metadata": {},
   "outputs": [],
   "source": [
    "#Задание 2\n",
    "#Напишите программу, которая последовательно запрашивает у пользователя числа \n",
    "#(по одному за раз) и после первого нуля выводит сумму всех ранее введенных чисел."
   ]
  },
  {
   "cell_type": "code",
   "execution_count": 10,
   "metadata": {},
   "outputs": [
    {
     "name": "stdout",
     "output_type": "stream",
     "text": [
      "Введите число 0\n"
     ]
    },
    {
     "data": {
      "text/plain": [
       "0"
      ]
     },
     "execution_count": 10,
     "metadata": {},
     "output_type": "execute_result"
    }
   ],
   "source": [
    "list = []\n",
    "x = 1\n",
    "while x != 0:\n",
    "    x = int(input('Введите число '))\n",
    "    list.append(x)\n",
    "sum(list)\n",
    "   "
   ]
  },
  {
   "cell_type": "code",
   "execution_count": null,
   "metadata": {},
   "outputs": [],
   "source": [
    "#Задание 3\n",
    "#Мы делаем MVP dating-сервиса, и у нас есть список парней и девушек.\n",
    "#Выдвигаем гипотезу: лучшие рекомендации мы получим, если просто отсортируем имена \n",
    "#по алфавиту и познакомим людей с одинаковыми индексами после сортировки!\n",
    "#Но мы не будем никого знакомить, если кто-то может остаться без пары:"
   ]
  },
  {
   "cell_type": "code",
   "execution_count": 22,
   "metadata": {},
   "outputs": [
    {
     "name": "stdout",
     "output_type": "stream",
     "text": [
      "['Alex', 'Arthur', 'John', 'Peter']\n",
      "['Emma', 'Kate', 'Kira', 'Liza', 'Trisha']\n",
      "Кто-то может остаться без пары\n"
     ]
    }
   ],
   "source": [
    "boys = ['Peter', 'Alex', 'John', 'Arthur', 'Richard']\n",
    "girls = ['Kate', 'Liza', 'Kira', 'Emma', 'Trisha']\n",
    "x = sorted(boys)\n",
    "y = sorted(girls)\n",
    "print(x)\n",
    "print(y)\n",
    "ideal=zip(x,y)\n",
    "if len(boys) != len(girls):\n",
    "    print('Кто-то может остаться без пары')\n",
    "else:\n",
    "    print('Идеальные пары: ')\n",
    "    for i,j in zip(x,y):\n",
    "        print(i, 'и', j)\n"
   ]
  },
  {
   "cell_type": "code",
   "execution_count": null,
   "metadata": {},
   "outputs": [],
   "source": [
    "#Задание 4\n",
    "#У нас есть список, содержащий информацию о среднедневной температуре \n",
    "#в Фаренгейтах за произвольный период по странам (структура данных в примере). Необходимо написать код, \n",
    "#который рассчитает среднюю температуру за период в Цельсиях(!) для каждой страны.\n"
   ]
  },
  {
   "cell_type": "code",
   "execution_count": 33,
   "metadata": {},
   "outputs": [
    {
     "name": "stdout",
     "output_type": "stream",
     "text": [
      "Средняя температура в странах:\n",
      "Thailand  -  23.0\n",
      "Germany  -  13.0\n",
      "Russia  -  3.0\n",
      "Poland  -  11.0\n"
     ]
    }
   ],
   "source": [
    "countries_temperature = [\n",
    "    ['Thailand', [75.2, 77, 78.8, 73.4, 68, 75.2, 77]],\n",
    "    ['Germany', [57.2, 55.4, 59, 59, 53.6]],\n",
    "    ['Russia', [35.6, 37.4, 39.2, 41, 42.8, 39.2, 35.6]],\n",
    "    ['Poland', [50, 50, 53.6, 57.2, 55.4, 55.4]]\n",
    "]\n",
    "print('Средняя температура в странах:')\n",
    "for country in countries_temperature:\n",
    "    print(country[0], ' - ', (sum(country[1])/len(country[1]) - 32) // 1.8)\n"
   ]
  },
  {
   "cell_type": "code",
   "execution_count": null,
   "metadata": {},
   "outputs": [],
   "source": [
    "#Задание 5 (необязательное)\n",
    "#Дан поток логов по количеству просмотренных страниц для каждого пользователя. \n",
    "#Вам необходимо написать алгоритм, который считает среднее значение просмотров на пользователя. \n",
    "#Т. е. надо посчитать отношение суммы всех просмотров к количеству уникальных пользователей."
   ]
  },
  {
   "cell_type": "code",
   "execution_count": 51,
   "metadata": {},
   "outputs": [
    {
     "name": "stdout",
     "output_type": "stream",
     "text": [
      "Среднее количество просмотров на уникального пользователя:  23.25\n"
     ]
    }
   ],
   "source": [
    "stream = [\n",
    "    '2018-01-01,user1,3',\n",
    "    '2018-01-07,user1,4',\n",
    "    '2018-03-29,user1,1',\n",
    "    '2018-04-04,user1,13',\n",
    "    '2018-01-05,user2,7',\n",
    "    '2018-06-14,user3,4',\n",
    "    '2018-07-02,user3,10',\n",
    "    '2018-03-21,user4,19',\n",
    "    '2018-03-22,user4,4',\n",
    "    '2018-04-22,user4,8',\n",
    "    '2018-05-03,user4,9',\n",
    "    '2018-05-11,user4,11',\n",
    "]\n",
    "\n",
    "sum_id = 0\n",
    "id = []\n",
    "\n",
    "for el in stream:\n",
    "    el = el.split(',')\n",
    "    sum_id += int(el[2])\n",
    "    if el[1] not in id:\n",
    "        id.append(el[1])\n",
    "print('Среднее количество просмотров на уникального пользователя: ', sum_id/len(id))\n",
    "    \n",
    "    \n",
    "    \n"
   ]
  }
 ],
 "metadata": {
  "kernelspec": {
   "display_name": "Python 3",
   "language": "python",
   "name": "python3"
  },
  "language_info": {
   "codemirror_mode": {
    "name": "ipython",
    "version": 3
   },
   "file_extension": ".py",
   "mimetype": "text/x-python",
   "name": "python",
   "nbconvert_exporter": "python",
   "pygments_lexer": "ipython3",
   "version": "3.7.6"
  }
 },
 "nbformat": 4,
 "nbformat_minor": 4
}
