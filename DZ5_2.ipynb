{
 "cells": [
  {
   "cell_type": "code",
   "execution_count": null,
   "metadata": {},
   "outputs": [],
   "source": [
    "Вам нужно помочь секретарю автоматизировать работу. Для этого нужно написать программу, которая будет на основе хранимых данных исполнять пользовательские команды.\n",
    "\n",
    "Исходные данные имеют следующую структуру:\n",
    "\n",
    "перечень всех документов\n",
    "documents = [\n",
    " {'type': 'passport', 'number': '2207 876234', 'name': 'Василий Гупкин'},\n",
    " {'type': 'invoice', 'number': '11-2', 'name': 'Геннадий Покемонов'},\n",
    " {'type': 'insurance', 'number': '10006', 'name': 'Аристарх Павлов'}\n",
    "]\n",
    "перечень полок, на которых хранятся документы (если документ есть в documents, то он обязательно должен быть и в directories)\n",
    "directories = {\n",
    " '1': ['2207 876234', '11-2'],\n",
    " '2': ['10006'],\n",
    " '3': []\n",
    "}\n",
    "Общие требования к программе:\n",
    "\n",
    "код должен быть грамотно декомпозирован (каждая функция отвечает за свою конкретную задачу, дублирующийся функционал переиспользуется, а его код не повторяется);\n",
    "в коде отсутствуют глобальные переменные (за исключением documents и directories);\n",
    "пользовательский ввод обрабатывается в цикле while до тех пор, пока пользователь явно не завершит программу (вводом команды \"q\")."
   ]
  },
  {
   "cell_type": "code",
   "execution_count": null,
   "metadata": {},
   "outputs": [],
   "source": [
    "Задание 1\n",
    "Пункт 1. Пользователь по команде \"p\" может узнать владельца документа по его номеру"
   ]
  },
  {
   "cell_type": "code",
   "execution_count": 1,
   "metadata": {},
   "outputs": [
    {
     "name": "stdout",
     "output_type": "stream",
     "text": [
      "Введите номер документа 3\n",
      "Документ не найден, введите корректный номер\n"
     ]
    }
   ],
   "source": [
    "#перечень всех документов\n",
    "documents = [\n",
    " {'type': 'passport', 'number': '2207 876234', 'name': 'Василий Гупкин'},\n",
    " {'type': 'invoice', 'number': '11-2', 'name': 'Геннадий Покемонов'},\n",
    " {'type': 'insurance', 'number': '10006', 'name': 'Аристарх Павлов'}\n",
    "]\n",
    "#перечень полок, на которых хранятся документы (если документ есть в documents, то он обязательно должен \n",
    "#быть и в directories)\n",
    "directories = {\n",
    " '1': ['2207 876234', '11-2'],\n",
    " '2': ['10006'],\n",
    " '3': []\n",
    "}\n",
    "\n",
    "number = input('Введите номер документа ')\n",
    "def p_name(number):\n",
    "    flag = False\n",
    "    for g in documents:\n",
    "        if g['number'] == number:\n",
    "            flag = True\n",
    "            break\n",
    "    if flag == True:\n",
    "        print('Владелец документа: ', g['name'])\n",
    "    else:\n",
    "        print('Документ не найден, введите корректный номер')                   \n",
    "p_name(number)\n",
    "    "
   ]
  },
  {
   "cell_type": "code",
   "execution_count": null,
   "metadata": {},
   "outputs": [],
   "source": [
    "#Пункт 2. Пользователь по команде \"s\" может по номеру документа \n",
    "#узнать на какой полке он хранится"
   ]
  },
  {
   "cell_type": "code",
   "execution_count": 2,
   "metadata": {},
   "outputs": [
    {
     "name": "stdout",
     "output_type": "stream",
     "text": [
      "Введите номер документа 3\n"
     ]
    }
   ],
   "source": [
    "number_1 = input('Введите номер документа ')\n",
    "def s_name(number_1):\n",
    "    for key,value in directories.items():\n",
    "        if number_1 in value:\n",
    "            return key\n",
    "    return\n",
    "        \n",
    "s_name(number_1)\n",
    "\n",
    "    "
   ]
  },
  {
   "cell_type": "code",
   "execution_count": null,
   "metadata": {},
   "outputs": [],
   "source": [
    "#Пункт 3. Пользователь по команде \"l\" может увидеть \n",
    "#полную информацию по всем документам"
   ]
  },
  {
   "cell_type": "code",
   "execution_count": 9,
   "metadata": {},
   "outputs": [
    {
     "name": "stdout",
     "output_type": "stream",
     "text": [
      "№ 2207 876234 тип: passport владелец: Василий Гупкин полка хранения: 1\n",
      "№ 11-2 тип: invoice владелец: Геннадий Покемонов полка хранения: 1\n",
      "№ 10006 тип: insurance владелец: Аристарх Павлов полка хранения: 2\n"
     ]
    }
   ],
   "source": [
    "def all_information(): \n",
    "    for doc in documents: \n",
    "        doc_shelf_number = s_name(doc['number'])\n",
    "        if doc_shelf_number:\n",
    "            print('№', doc['number'], 'тип:', doc['type'], 'владелец:', doc['name'], 'полка хранения:', doc_shelf_number)\n",
    "        else:\n",
    "            print('документ не найден, но это не страшно')\n",
    "        \n",
    "all_information()"
   ]
  },
  {
   "cell_type": "markdown",
   "metadata": {},
   "source": [
    "Пункт 4. Пользователь по команде \"ads\" может добавить новую полку"
   ]
  },
  {
   "cell_type": "code",
   "execution_count": 5,
   "metadata": {},
   "outputs": [
    {
     "name": "stdout",
     "output_type": "stream",
     "text": [
      "Введите номер новой полки 2\n",
      "Такая полка уже существует \n"
     ]
    }
   ],
   "source": [
    "number_2 = input('Введите номер новой полки ')\n",
    "def add_directories(number_2):\n",
    "    if number_2 not in directories.keys():\n",
    "        directories[number_2] = []\n",
    "        print('Полка добавлена. Текущий перечень полок ', directories.keys())\n",
    "    else:\n",
    "        print('Такая полка уже существует ')    \n",
    "add_directories(number_2)"
   ]
  },
  {
   "cell_type": "markdown",
   "metadata": {},
   "source": [
    " Пункт 5. Пользователь по команде \"ds\" может удалить существующую полку из данных (только если она пустая)"
   ]
  },
  {
   "cell_type": "code",
   "execution_count": 6,
   "metadata": {},
   "outputs": [
    {
     "name": "stdout",
     "output_type": "stream",
     "text": [
      "Введите номер полки для удаления 3\n",
      "Полка удалена. Текущий перечень полок: dict_keys(['1', '2'])\n"
     ]
    }
   ],
   "source": [
    "number_3 = input('Введите номер полки для удаления ')\n",
    "def del_directories(number_3):\n",
    "    if number_3 in directories.keys():\n",
    "        if len(directories[number_3]) == 0:\n",
    "            del directories[number_3]\n",
    "            print('Полка удалена. Текущий перечень полок:', directories.keys())\n",
    "        else: \n",
    "            print('На полке есть документы, удалите их перед удалением полки. Текущий перечень полок:', directories.keys())\n",
    "        \n",
    "\n",
    "del_directories(number_3)"
   ]
  },
  {
   "cell_type": "code",
   "execution_count": null,
   "metadata": {},
   "outputs": [
    {
     "name": "stdout",
     "output_type": "stream",
     "text": [
      "Введите команду s\n",
      "Введите номер документа 2\n",
      "Документ не найден в базе\n",
      "Введите команду s\n",
      "Введите номер документа 10006\n",
      "Полка, на которой хранится документ  2\n"
     ]
    }
   ],
   "source": [
    "def program(all):\n",
    "    while True:\n",
    "        user_input = input('Введите команду ')\n",
    "        if user_input == 'p':\n",
    "            number = input('Введите номер документа ')\n",
    "            p_name(number)\n",
    "        elif user_input == 's':\n",
    "            number_1 = input('Введите номер документа ')\n",
    "            a = s_name(number_1)\n",
    "            if a != None:\n",
    "                print('Полка, на которой хранится документ ', s_name(number_1))\n",
    "            else:\n",
    "                print('Документ не найден в базе')\n",
    "        elif user_input == 'l':\n",
    "            all_information()\n",
    "        elif user_input == 'ads':\n",
    "            number_2 = input('Введите номер новой полки ')\n",
    "            add_directories(number_2)\n",
    "        elif user_input == 'ds':\n",
    "            number_3 = input('Введите номер полки для удаления ')\n",
    "            del_directories(number_3)\n",
    "        elif user_input == 'q':\n",
    "            print('Работа программы завершена')\n",
    "            break\n",
    "            \n",
    "program(all)        "
   ]
  },
  {
   "cell_type": "code",
   "execution_count": null,
   "metadata": {},
   "outputs": [],
   "source": []
  },
  {
   "cell_type": "code",
   "execution_count": null,
   "metadata": {},
   "outputs": [],
   "source": []
  }
 ],
 "metadata": {
  "kernelspec": {
   "display_name": "Python 3",
   "language": "python",
   "name": "python3"
  },
  "language_info": {
   "codemirror_mode": {
    "name": "ipython",
    "version": 3
   },
   "file_extension": ".py",
   "mimetype": "text/x-python",
   "name": "python",
   "nbconvert_exporter": "python",
   "pygments_lexer": "ipython3",
   "version": "3.7.6"
  }
 },
 "nbformat": 4,
 "nbformat_minor": 4
}
