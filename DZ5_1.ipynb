{
 "cells": [
  {
   "cell_type": "code",
   "execution_count": null,
   "metadata": {},
   "outputs": [],
   "source": [
    "Вам нужно помочь секретарю автоматизировать работу. Для этого нужно написать программу, которая будет на основе хранимых данных исполнять пользовательские команды.\n",
    "\n",
    "Исходные данные имеют следующую структуру:\n",
    "\n",
    "перечень всех документов\n",
    "documents = [\n",
    " {'type': 'passport', 'number': '2207 876234', 'name': 'Василий Гупкин'},\n",
    " {'type': 'invoice', 'number': '11-2', 'name': 'Геннадий Покемонов'},\n",
    " {'type': 'insurance', 'number': '10006', 'name': 'Аристарх Павлов'}\n",
    "]\n",
    "перечень полок, на которых хранятся документы (если документ есть в documents, то он обязательно должен быть и в directories)\n",
    "directories = {\n",
    " '1': ['2207 876234', '11-2'],\n",
    " '2': ['10006'],\n",
    " '3': []\n",
    "}\n",
    "Общие требования к программе:\n",
    "\n",
    "код должен быть грамотно декомпозирован (каждая функция отвечает за свою конкретную задачу, дублирующийся функционал переиспользуется, а его код не повторяется);\n",
    "в коде отсутствуют глобальные переменные (за исключением documents и directories);\n",
    "пользовательский ввод обрабатывается в цикле while до тех пор, пока пользователь явно не завершит программу (вводом команды \"q\")."
   ]
  },
  {
   "cell_type": "code",
   "execution_count": null,
   "metadata": {},
   "outputs": [],
   "source": [
    "Задание 1\n",
    "Пункт 1. Пользователь по команде \"p\" может узнать владельца документа по его номеру"
   ]
  },
  {
   "cell_type": "code",
   "execution_count": 4,
   "metadata": {},
   "outputs": [
    {
     "name": "stdout",
     "output_type": "stream",
     "text": [
      "Введите номер документа 10006\n",
      "Владелец документа:  Аристарх Павлов\n"
     ]
    }
   ],
   "source": [
    "#перечень всех документов\n",
    "documents = [\n",
    " {'type': 'passport', 'number': '2207 876234', 'name': 'Василий Гупкин'},\n",
    " {'type': 'invoice', 'number': '11-2', 'name': 'Геннадий Покемонов'},\n",
    " {'type': 'insurance', 'number': '10006', 'name': 'Аристарх Павлов'}\n",
    "]\n",
    "#перечень полок, на которых хранятся документы (если документ есть в documents, то он обязательно должен \n",
    "#быть и в directories)\n",
    "directories = {\n",
    " '1': ['2207 876234', '11-2'],\n",
    " '2': ['10006'],\n",
    " '3': []\n",
    "}\n",
    "\n",
    "number = input('Введите номер документа ')\n",
    "def p_name(number):\n",
    "    flag = False\n",
    "    for g in documents:\n",
    "        if g['number'] == number:\n",
    "            flag = True\n",
    "            break\n",
    "    if flag == True:\n",
    "        print('Владелец документа: ', g['name'])\n",
    "    else:\n",
    "        print('Документ не найден, введите корректный номер')                   \n",
    "p_name(number)\n",
    "    "
   ]
  },
  {
   "cell_type": "code",
   "execution_count": null,
   "metadata": {},
   "outputs": [],
   "source": [
    "#Пункт 2. Пользователь по команде \"s\" может по номеру документа \n",
    "#узнать на какой полке он хранится"
   ]
  },
  {
   "cell_type": "code",
   "execution_count": 28,
   "metadata": {},
   "outputs": [
    {
     "name": "stdout",
     "output_type": "stream",
     "text": [
      "Введите номер документа 11-2\n",
      "Полка на которой хранится документ  1\n",
      "Документ не найден в базе \n"
     ]
    }
   ],
   "source": [
    "number_1 = input('Введите номер документа ')\n",
    "def s_name(number_1):\n",
    "    for key,value in directories.items():\n",
    "        if number_1 in value:\n",
    "            print('Полка на которой хранится документ ', key)\n",
    "        if number_1 not in value:\n",
    "            print('Документ не найден в базе ')\n",
    "            return\n",
    "    #print('Документ не найден в базе ')\n",
    "    #return\n",
    "    #'Документ не найден в базе'\n",
    "        \n",
    "s_name(number_1)\n",
    "\n",
    "    "
   ]
  },
  {
   "cell_type": "code",
   "execution_count": null,
   "metadata": {},
   "outputs": [],
   "source": [
    "#Пункт 3. Пользователь по команде \"l\" может увидеть \n",
    "#полную информацию по всем документам"
   ]
  },
  {
   "cell_type": "code",
   "execution_count": 26,
   "metadata": {},
   "outputs": [
    {
     "name": "stdout",
     "output_type": "stream",
     "text": [
      "Полка на которой хранится документ  1\n",
      "№ 2207 876234 тип: passport владелец: Василий Гупкин полка хранения: о\n",
      "Полка на которой хранится документ  1\n",
      "№ 11-2 тип: invoice владелец: Геннадий Покемонов полка хранения: о\n",
      "Полка на которой хранится документ  2\n",
      "№ 10006 тип: insurance владелец: Аристарх Павлов полка хранения: о\n"
     ]
    }
   ],
   "source": [
    "def all_information(): \n",
    "    for doc in documents: \n",
    "        doc_shelf_number = s_name(doc['number']) \n",
    "        print('№', doc['number'], 'тип:', doc['type'], 'владелец:', doc['name'], 'полка хранения:', doc_shelf_number[1])\n",
    "        \n",
    "all_information()"
   ]
  },
  {
   "cell_type": "markdown",
   "metadata": {},
   "source": [
    "Пункт 4. Пользователь по команде \"ads\" может добавить новую полку"
   ]
  },
  {
   "cell_type": "code",
   "execution_count": 6,
   "metadata": {},
   "outputs": [
    {
     "name": "stdout",
     "output_type": "stream",
     "text": [
      "Введите номер новой полки 2\n",
      "Такая полка уже существует \n"
     ]
    }
   ],
   "source": [
    "number_2 = input('Введите номер новой полки ')\n",
    "def add_directories(number_2):\n",
    "    if number_2 not in directories.keys():\n",
    "        directories[number_2] = []\n",
    "        print('Полка добавлена. Текущий перечень полок ', directories.keys())\n",
    "    else:\n",
    "        print('Такая полка уже существует ')    \n",
    "add_directories(number_2)"
   ]
  },
  {
   "cell_type": "markdown",
   "metadata": {},
   "source": [
    " Пункт 5. Пользователь по команде \"ds\" может удалить существующую полку из данных (только если она пустая)"
   ]
  },
  {
   "cell_type": "code",
   "execution_count": 8,
   "metadata": {},
   "outputs": [
    {
     "name": "stdout",
     "output_type": "stream",
     "text": [
      "Введите номер полки для удаления 3\n",
      "Полка удалена. Текущий перечень полок: dict_keys(['1', '2'])\n"
     ]
    }
   ],
   "source": [
    "number_3 = input('Введите номер полки для удаления ')\n",
    "def del_directories(number_3):\n",
    "    if number_3 in directories.keys():\n",
    "        if len(directories[number_3]) == 0:\n",
    "            del directories[number_3]\n",
    "            print('Полка удалена. Текущий перечень полок:', directories.keys())\n",
    "        else: \n",
    "            print('На полке есть документы, удалите их перед удалением полки. Текущий перечень полок:', directories.keys())\n",
    "        \n",
    "\n",
    "del_directories(number_3)"
   ]
  },
  {
   "cell_type": "code",
   "execution_count": 9,
   "metadata": {},
   "outputs": [
    {
     "name": "stdout",
     "output_type": "stream",
     "text": [
      "Введите команду p\n",
      "Введите номер документа 10006\n",
      "Владелец документа:  Аристарх Павлов\n",
      "Введите команду p\n",
      "Введите номер документа 4\n",
      "Документ не найден, введите корректный номер\n",
      "Введите команду s\n",
      "Введите номер документа 10006\n",
      "Полка, на которой хранится документ 2\n",
      "Введите команду s\n",
      "Введите номер документа 4\n",
      "Документ не найден в базе\n",
      "Введите команду l\n",
      "Полка, на которой хранится документ 1\n"
     ]
    },
    {
     "ename": "TypeError",
     "evalue": "'NoneType' object is not subscriptable",
     "output_type": "error",
     "traceback": [
      "\u001b[1;31m---------------------------------------------------------------------------\u001b[0m",
      "\u001b[1;31mTypeError\u001b[0m                                 Traceback (most recent call last)",
      "\u001b[1;32m<ipython-input-9-cd58ba2dfea5>\u001b[0m in \u001b[0;36m<module>\u001b[1;34m\u001b[0m\n\u001b[0;32m      9\u001b[0m         \u001b[0ms_name\u001b[0m\u001b[1;33m(\u001b[0m\u001b[0mnumber_1\u001b[0m\u001b[1;33m)\u001b[0m\u001b[1;33m\u001b[0m\u001b[1;33m\u001b[0m\u001b[0m\n\u001b[0;32m     10\u001b[0m     \u001b[1;32melif\u001b[0m \u001b[0muser_input\u001b[0m \u001b[1;33m==\u001b[0m \u001b[1;34m'l'\u001b[0m\u001b[1;33m:\u001b[0m\u001b[1;33m\u001b[0m\u001b[1;33m\u001b[0m\u001b[0m\n\u001b[1;32m---> 11\u001b[1;33m         \u001b[0mall_information\u001b[0m\u001b[1;33m(\u001b[0m\u001b[1;33m)\u001b[0m\u001b[1;33m\u001b[0m\u001b[1;33m\u001b[0m\u001b[0m\n\u001b[0m\u001b[0;32m     12\u001b[0m     \u001b[1;32melif\u001b[0m \u001b[0muser_input\u001b[0m \u001b[1;33m==\u001b[0m \u001b[1;34m'ads'\u001b[0m\u001b[1;33m:\u001b[0m\u001b[1;33m\u001b[0m\u001b[1;33m\u001b[0m\u001b[0m\n\u001b[0;32m     13\u001b[0m         \u001b[0mnumber_2\u001b[0m \u001b[1;33m=\u001b[0m \u001b[0minput\u001b[0m\u001b[1;33m(\u001b[0m\u001b[1;34m'Введите номер новой полки '\u001b[0m\u001b[1;33m)\u001b[0m\u001b[1;33m\u001b[0m\u001b[1;33m\u001b[0m\u001b[0m\n",
      "\u001b[1;32m<ipython-input-5-a44fdb3fcd02>\u001b[0m in \u001b[0;36mall_information\u001b[1;34m()\u001b[0m\n\u001b[0;32m      2\u001b[0m     \u001b[1;32mfor\u001b[0m \u001b[0mdoc\u001b[0m \u001b[1;32min\u001b[0m \u001b[0mdocuments\u001b[0m\u001b[1;33m:\u001b[0m\u001b[1;33m\u001b[0m\u001b[1;33m\u001b[0m\u001b[0m\n\u001b[0;32m      3\u001b[0m         \u001b[0mdoc_shelf_number\u001b[0m \u001b[1;33m=\u001b[0m \u001b[0ms_name\u001b[0m\u001b[1;33m(\u001b[0m\u001b[0mdoc\u001b[0m\u001b[1;33m[\u001b[0m\u001b[1;34m'number'\u001b[0m\u001b[1;33m]\u001b[0m\u001b[1;33m)\u001b[0m\u001b[1;33m\u001b[0m\u001b[1;33m\u001b[0m\u001b[0m\n\u001b[1;32m----> 4\u001b[1;33m         \u001b[0mprint\u001b[0m\u001b[1;33m(\u001b[0m\u001b[1;34m'№'\u001b[0m\u001b[1;33m,\u001b[0m \u001b[0mdoc\u001b[0m\u001b[1;33m[\u001b[0m\u001b[1;34m'number'\u001b[0m\u001b[1;33m]\u001b[0m\u001b[1;33m,\u001b[0m \u001b[1;34m'тип:'\u001b[0m\u001b[1;33m,\u001b[0m \u001b[0mdoc\u001b[0m\u001b[1;33m[\u001b[0m\u001b[1;34m'type'\u001b[0m\u001b[1;33m]\u001b[0m\u001b[1;33m,\u001b[0m \u001b[1;34m'владелец:'\u001b[0m\u001b[1;33m,\u001b[0m \u001b[0mdoc\u001b[0m\u001b[1;33m[\u001b[0m\u001b[1;34m'name'\u001b[0m\u001b[1;33m]\u001b[0m\u001b[1;33m,\u001b[0m \u001b[1;34m'полка хранения:'\u001b[0m\u001b[1;33m,\u001b[0m \u001b[0mdoc_shelf_number\u001b[0m\u001b[1;33m[\u001b[0m\u001b[1;36m1\u001b[0m\u001b[1;33m]\u001b[0m\u001b[1;33m)\u001b[0m\u001b[1;33m\u001b[0m\u001b[1;33m\u001b[0m\u001b[0m\n\u001b[0m\u001b[0;32m      5\u001b[0m \u001b[1;33m\u001b[0m\u001b[0m\n\u001b[0;32m      6\u001b[0m \u001b[0mall_information\u001b[0m\u001b[1;33m(\u001b[0m\u001b[1;33m)\u001b[0m\u001b[1;33m\u001b[0m\u001b[1;33m\u001b[0m\u001b[0m\n",
      "\u001b[1;31mTypeError\u001b[0m: 'NoneType' object is not subscriptable"
     ]
    }
   ],
   "source": [
    "#def program(document):\n",
    "while True:\n",
    "    user_input = input('Введите команду ')\n",
    "    if user_input == 'p':\n",
    "        number = input('Введите номер документа ')\n",
    "        p_name(number)\n",
    "    elif user_input == 's':\n",
    "        number_1 = input('Введите номер документа ')\n",
    "        s_name(number_1)\n",
    "    elif user_input == 'l':\n",
    "        all_information()\n",
    "    elif user_input == 'ads':\n",
    "        number_2 = input('Введите номер новой полки ')\n",
    "        add_directories(number_2)\n",
    "    elif user_input == 'ds':\n",
    "        number_3 = input('Введите номер полки для удаления ')\n",
    "        del_directories(number_3)\n",
    "    elif user_input == 'q':\n",
    "        print('Работа программы завершена')\n",
    "        break\n",
    "#program(document)        "
   ]
  },
  {
   "cell_type": "code",
   "execution_count": null,
   "metadata": {},
   "outputs": [],
   "source": []
  }
 ],
 "metadata": {
  "kernelspec": {
   "display_name": "Python 3",
   "language": "python",
   "name": "python3"
  },
  "language_info": {
   "codemirror_mode": {
    "name": "ipython",
    "version": 3
   },
   "file_extension": ".py",
   "mimetype": "text/x-python",
   "name": "python",
   "nbconvert_exporter": "python",
   "pygments_lexer": "ipython3",
   "version": "3.7.6"
  }
 },
 "nbformat": 4,
 "nbformat_minor": 4
}
